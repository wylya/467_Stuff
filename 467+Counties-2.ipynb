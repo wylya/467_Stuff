{
 "cells": [
  {
   "cell_type": "code",
   "execution_count": 1,
   "metadata": {
    "collapsed": true
   },
   "outputs": [],
   "source": [
    "import numpy as np\n",
    "import pandas as pd\n",
    "import math"
   ]
  },
  {
   "cell_type": "code",
   "execution_count": 2,
   "metadata": {},
   "outputs": [
    {
     "name": "stderr",
     "output_type": "stream",
     "text": [
      "/Users/wylyanderson/anaconda3/lib/python3.6/site-packages/IPython/core/interactiveshell.py:2698: DtypeWarning: Columns (52,53,54,55,61,62,63,64) have mixed types. Specify dtype option on import or set low_memory=False.\n",
      "  interactivity=interactivity, compiler=compiler, result=result)\n"
     ]
    }
   ],
   "source": [
    "run1OC = pd.read_csv(\"NewYork_36071_Module6NN1stRun.csv\")\n",
    "run2OC = pd.read_csv(\"NewYork36071Module1NN2ndRun.csv\")"
   ]
  },
  {
   "cell_type": "code",
   "execution_count": 3,
   "metadata": {},
   "outputs": [
    {
     "data": {
      "text/html": [
       "<div>\n",
       "<style>\n",
       "    .dataframe thead tr:only-child th {\n",
       "        text-align: right;\n",
       "    }\n",
       "\n",
       "    .dataframe thead th {\n",
       "        text-align: left;\n",
       "    }\n",
       "\n",
       "    .dataframe tbody tr th {\n",
       "        vertical-align: top;\n",
       "    }\n",
       "</style>\n",
       "<table border=\"1\" class=\"dataframe\">\n",
       "  <thead>\n",
       "    <tr style=\"text-align: right;\">\n",
       "      <th></th>\n",
       "      <th>Residence State</th>\n",
       "      <th>County Code</th>\n",
       "      <th>Tract Code</th>\n",
       "      <th>Block Code</th>\n",
       "      <th>HH ID</th>\n",
       "      <th>Person ID Number</th>\n",
       "      <th>Activity Pattern</th>\n",
       "      <th>Node 1 Type</th>\n",
       "      <th>Node 1 Predecessor</th>\n",
       "      <th>Node 1 Successor</th>\n",
       "      <th>...</th>\n",
       "      <th>Node 6 Departure Time</th>\n",
       "      <th>Node 7 Type</th>\n",
       "      <th>Node 7 Predecessor</th>\n",
       "      <th>Node 7 Successor</th>\n",
       "      <th>Node 7 Name</th>\n",
       "      <th>Node 7 County</th>\n",
       "      <th>Node 7 Lat</th>\n",
       "      <th>Node 7 Lon</th>\n",
       "      <th>Node 7 Arrival Time</th>\n",
       "      <th>Node 7 Departure Time</th>\n",
       "    </tr>\n",
       "  </thead>\n",
       "  <tbody>\n",
       "    <tr>\n",
       "      <th>0</th>\n",
       "      <td>36</td>\n",
       "      <td>71</td>\n",
       "      <td>13900</td>\n",
       "      <td>2021</td>\n",
       "      <td>4668505</td>\n",
       "      <td>36011956118</td>\n",
       "      <td>2</td>\n",
       "      <td>H</td>\n",
       "      <td>N</td>\n",
       "      <td>S</td>\n",
       "      <td>...</td>\n",
       "      <td>dTime</td>\n",
       "      <td>NaN</td>\n",
       "      <td>NaN</td>\n",
       "      <td>NaN</td>\n",
       "      <td>NaN</td>\n",
       "      <td>NaN</td>\n",
       "      <td>NaN</td>\n",
       "      <td>NaN</td>\n",
       "      <td>oTime</td>\n",
       "      <td>dTime</td>\n",
       "    </tr>\n",
       "    <tr>\n",
       "      <th>1</th>\n",
       "      <td>36</td>\n",
       "      <td>71</td>\n",
       "      <td>100</td>\n",
       "      <td>1017</td>\n",
       "      <td>4576906</td>\n",
       "      <td>36011691461</td>\n",
       "      <td>1</td>\n",
       "      <td>H</td>\n",
       "      <td>N</td>\n",
       "      <td>S</td>\n",
       "      <td>...</td>\n",
       "      <td>dTime</td>\n",
       "      <td>NaN</td>\n",
       "      <td>NaN</td>\n",
       "      <td>NaN</td>\n",
       "      <td>NaN</td>\n",
       "      <td>NaN</td>\n",
       "      <td>NaN</td>\n",
       "      <td>NaN</td>\n",
       "      <td>oTime</td>\n",
       "      <td>dTime</td>\n",
       "    </tr>\n",
       "    <tr>\n",
       "      <th>2</th>\n",
       "      <td>36</td>\n",
       "      <td>71</td>\n",
       "      <td>100</td>\n",
       "      <td>1018</td>\n",
       "      <td>4576932</td>\n",
       "      <td>36011691571</td>\n",
       "      <td>1</td>\n",
       "      <td>H</td>\n",
       "      <td>N</td>\n",
       "      <td>S</td>\n",
       "      <td>...</td>\n",
       "      <td>dTime</td>\n",
       "      <td>NaN</td>\n",
       "      <td>NaN</td>\n",
       "      <td>NaN</td>\n",
       "      <td>NaN</td>\n",
       "      <td>NaN</td>\n",
       "      <td>NaN</td>\n",
       "      <td>NaN</td>\n",
       "      <td>oTime</td>\n",
       "      <td>dTime</td>\n",
       "    </tr>\n",
       "    <tr>\n",
       "      <th>3</th>\n",
       "      <td>36</td>\n",
       "      <td>71</td>\n",
       "      <td>100</td>\n",
       "      <td>1019</td>\n",
       "      <td>4576950</td>\n",
       "      <td>36011691625</td>\n",
       "      <td>1</td>\n",
       "      <td>H</td>\n",
       "      <td>N</td>\n",
       "      <td>S</td>\n",
       "      <td>...</td>\n",
       "      <td>dTime</td>\n",
       "      <td>NaN</td>\n",
       "      <td>NaN</td>\n",
       "      <td>NaN</td>\n",
       "      <td>NaN</td>\n",
       "      <td>NaN</td>\n",
       "      <td>NaN</td>\n",
       "      <td>NaN</td>\n",
       "      <td>oTime</td>\n",
       "      <td>dTime</td>\n",
       "    </tr>\n",
       "    <tr>\n",
       "      <th>4</th>\n",
       "      <td>36</td>\n",
       "      <td>71</td>\n",
       "      <td>100</td>\n",
       "      <td>1019</td>\n",
       "      <td>4576952</td>\n",
       "      <td>36011691633</td>\n",
       "      <td>1</td>\n",
       "      <td>H</td>\n",
       "      <td>N</td>\n",
       "      <td>S</td>\n",
       "      <td>...</td>\n",
       "      <td>dTime</td>\n",
       "      <td>NaN</td>\n",
       "      <td>NaN</td>\n",
       "      <td>NaN</td>\n",
       "      <td>NaN</td>\n",
       "      <td>NaN</td>\n",
       "      <td>NaN</td>\n",
       "      <td>NaN</td>\n",
       "      <td>oTime</td>\n",
       "      <td>dTime</td>\n",
       "    </tr>\n",
       "  </tbody>\n",
       "</table>\n",
       "<p>5 rows × 70 columns</p>\n",
       "</div>"
      ],
      "text/plain": [
       "   Residence State  County Code  Tract Code  Block Code    HH ID  \\\n",
       "0               36           71       13900        2021  4668505   \n",
       "1               36           71         100        1017  4576906   \n",
       "2               36           71         100        1018  4576932   \n",
       "3               36           71         100        1019  4576950   \n",
       "4               36           71         100        1019  4576952   \n",
       "\n",
       "   Person ID Number  Activity Pattern Node 1 Type Node 1 Predecessor  \\\n",
       "0       36011956118                 2           H                  N   \n",
       "1       36011691461                 1           H                  N   \n",
       "2       36011691571                 1           H                  N   \n",
       "3       36011691625                 1           H                  N   \n",
       "4       36011691633                 1           H                  N   \n",
       "\n",
       "  Node 1 Successor          ...          Node 6 Departure Time  Node 7 Type  \\\n",
       "0                S          ...                          dTime          NaN   \n",
       "1                S          ...                          dTime          NaN   \n",
       "2                S          ...                          dTime          NaN   \n",
       "3                S          ...                          dTime          NaN   \n",
       "4                S          ...                          dTime          NaN   \n",
       "\n",
       "   Node 7 Predecessor  Node 7 Successor  Node 7 Name Node 7 County Node 7 Lat  \\\n",
       "0                 NaN               NaN          NaN           NaN        NaN   \n",
       "1                 NaN               NaN          NaN           NaN        NaN   \n",
       "2                 NaN               NaN          NaN           NaN        NaN   \n",
       "3                 NaN               NaN          NaN           NaN        NaN   \n",
       "4                 NaN               NaN          NaN           NaN        NaN   \n",
       "\n",
       "  Node 7 Lon Node 7 Arrival Time Node 7 Departure Time  \n",
       "0        NaN               oTime                 dTime  \n",
       "1        NaN               oTime                 dTime  \n",
       "2        NaN               oTime                 dTime  \n",
       "3        NaN               oTime                 dTime  \n",
       "4        NaN               oTime                 dTime  \n",
       "\n",
       "[5 rows x 70 columns]"
      ]
     },
     "execution_count": 3,
     "metadata": {},
     "output_type": "execute_result"
    }
   ],
   "source": [
    "run1OC.head()"
   ]
  },
  {
   "cell_type": "code",
   "execution_count": 4,
   "metadata": {},
   "outputs": [
    {
     "data": {
      "text/html": [
       "<div>\n",
       "<style>\n",
       "    .dataframe thead tr:only-child th {\n",
       "        text-align: right;\n",
       "    }\n",
       "\n",
       "    .dataframe thead th {\n",
       "        text-align: left;\n",
       "    }\n",
       "\n",
       "    .dataframe tbody tr th {\n",
       "        vertical-align: top;\n",
       "    }\n",
       "</style>\n",
       "<table border=\"1\" class=\"dataframe\">\n",
       "  <thead>\n",
       "    <tr style=\"text-align: right;\">\n",
       "      <th></th>\n",
       "      <th>Unnamed: 0</th>\n",
       "      <th>Residence State</th>\n",
       "      <th>County Code</th>\n",
       "      <th>Tract Code</th>\n",
       "      <th>Block Code</th>\n",
       "      <th>HH ID</th>\n",
       "      <th>HH TYPE</th>\n",
       "      <th>Latitude</th>\n",
       "      <th>Longitude</th>\n",
       "      <th>Person ID Number</th>\n",
       "      <th>Age</th>\n",
       "      <th>Sex</th>\n",
       "      <th>Traveler Type</th>\n",
       "      <th>Income Bracket</th>\n",
       "      <th>Income Amount</th>\n",
       "    </tr>\n",
       "  </thead>\n",
       "  <tbody>\n",
       "    <tr>\n",
       "      <th>0</th>\n",
       "      <td>11690759</td>\n",
       "      <td>36</td>\n",
       "      <td>71</td>\n",
       "      <td>100</td>\n",
       "      <td>1000</td>\n",
       "      <td>4576658</td>\n",
       "      <td>1</td>\n",
       "      <td>41.517333</td>\n",
       "      <td>-74.012504</td>\n",
       "      <td>36011690760</td>\n",
       "      <td>66</td>\n",
       "      <td>1</td>\n",
       "      <td>6</td>\n",
       "      <td>6.0</td>\n",
       "      <td>69012.044610</td>\n",
       "    </tr>\n",
       "    <tr>\n",
       "      <th>1</th>\n",
       "      <td>11690760</td>\n",
       "      <td>36</td>\n",
       "      <td>71</td>\n",
       "      <td>100</td>\n",
       "      <td>1000</td>\n",
       "      <td>4576658</td>\n",
       "      <td>1</td>\n",
       "      <td>41.517333</td>\n",
       "      <td>-74.012504</td>\n",
       "      <td>36011690761</td>\n",
       "      <td>17</td>\n",
       "      <td>1</td>\n",
       "      <td>1</td>\n",
       "      <td>0.0</td>\n",
       "      <td>0.000000</td>\n",
       "    </tr>\n",
       "    <tr>\n",
       "      <th>2</th>\n",
       "      <td>11690761</td>\n",
       "      <td>36</td>\n",
       "      <td>71</td>\n",
       "      <td>100</td>\n",
       "      <td>1000</td>\n",
       "      <td>4576659</td>\n",
       "      <td>0</td>\n",
       "      <td>41.517333</td>\n",
       "      <td>-74.012504</td>\n",
       "      <td>36011690762</td>\n",
       "      <td>53</td>\n",
       "      <td>1</td>\n",
       "      <td>5</td>\n",
       "      <td>1.0</td>\n",
       "      <td>2409.692110</td>\n",
       "    </tr>\n",
       "    <tr>\n",
       "      <th>3</th>\n",
       "      <td>11690762</td>\n",
       "      <td>36</td>\n",
       "      <td>71</td>\n",
       "      <td>100</td>\n",
       "      <td>1000</td>\n",
       "      <td>4576659</td>\n",
       "      <td>0</td>\n",
       "      <td>41.517333</td>\n",
       "      <td>-74.012504</td>\n",
       "      <td>36011690763</td>\n",
       "      <td>59</td>\n",
       "      <td>0</td>\n",
       "      <td>5</td>\n",
       "      <td>1.0</td>\n",
       "      <td>6393.542108</td>\n",
       "    </tr>\n",
       "    <tr>\n",
       "      <th>4</th>\n",
       "      <td>11690763</td>\n",
       "      <td>36</td>\n",
       "      <td>71</td>\n",
       "      <td>100</td>\n",
       "      <td>1001</td>\n",
       "      <td>4576660</td>\n",
       "      <td>1</td>\n",
       "      <td>41.517446</td>\n",
       "      <td>-74.014654</td>\n",
       "      <td>36011690764</td>\n",
       "      <td>76</td>\n",
       "      <td>0</td>\n",
       "      <td>6</td>\n",
       "      <td>5.0</td>\n",
       "      <td>45906.476360</td>\n",
       "    </tr>\n",
       "  </tbody>\n",
       "</table>\n",
       "</div>"
      ],
      "text/plain": [
       "   Unnamed: 0  Residence State  County Code  Tract Code  Block Code    HH ID  \\\n",
       "0    11690759               36           71         100        1000  4576658   \n",
       "1    11690760               36           71         100        1000  4576658   \n",
       "2    11690761               36           71         100        1000  4576659   \n",
       "3    11690762               36           71         100        1000  4576659   \n",
       "4    11690763               36           71         100        1001  4576660   \n",
       "\n",
       "   HH TYPE   Latitude  Longitude  Person ID Number  Age  Sex  Traveler Type  \\\n",
       "0        1  41.517333 -74.012504       36011690760   66    1              6   \n",
       "1        1  41.517333 -74.012504       36011690761   17    1              1   \n",
       "2        0  41.517333 -74.012504       36011690762   53    1              5   \n",
       "3        0  41.517333 -74.012504       36011690763   59    0              5   \n",
       "4        1  41.517446 -74.014654       36011690764   76    0              6   \n",
       "\n",
       "   Income Bracket  Income Amount  \n",
       "0             6.0   69012.044610  \n",
       "1             0.0       0.000000  \n",
       "2             1.0    2409.692110  \n",
       "3             1.0    6393.542108  \n",
       "4             5.0   45906.476360  "
      ]
     },
     "execution_count": 4,
     "metadata": {},
     "output_type": "execute_result"
    }
   ],
   "source": [
    "run2OC.head()"
   ]
  },
  {
   "cell_type": "code",
   "execution_count": 5,
   "metadata": {},
   "outputs": [
    {
     "name": "stdout",
     "output_type": "stream",
     "text": [
      "Number of unique households: 126132\n",
      "Number of unique people: 372813\n"
     ]
    }
   ],
   "source": [
    "households2 =  len(run2OC['HH ID'].unique())\n",
    "print('Number of unique households: ' + str(households2))\n",
    "\n",
    "numPeople2 = len(run2OC['Person ID Number'].unique())\n",
    "print('Number of unique people: ' + str(numPeople2))"
   ]
  },
  {
   "cell_type": "code",
   "execution_count": 6,
   "metadata": {},
   "outputs": [
    {
     "name": "stdout",
     "output_type": "stream",
     "text": [
      "        Residence State  County Code  Tract Code  Block Code    HH ID  \\\n",
      "56600                36           71       12200        1017  4643185   \n",
      "56601                36           71       12200        1017  4643185   \n",
      "56602                36           71       12200        1017  4643185   \n",
      "56603                36           71       12200        1017  4643185   \n",
      "314699               36           71       12200        1017  4643185   \n",
      "\n",
      "        Person ID Number  Activity Pattern Node 1 Type Node 1 Predecessor  \\\n",
      "56600        36011882014                 1           H                  N   \n",
      "56601        36011882015                 1           H                  N   \n",
      "56602        36011882016                 1           H                  N   \n",
      "56603        36011882017                 1           H                  N   \n",
      "314699       36011882013                 6           H                  N   \n",
      "\n",
      "       Node 1 Successor          ...          Node 6 Departure Time  \\\n",
      "56600                 S          ...                          dTime   \n",
      "56601                 S          ...                          dTime   \n",
      "56602                 S          ...                          dTime   \n",
      "56603                 S          ...                            NaN   \n",
      "314699                O          ...                          dTime   \n",
      "\n",
      "        Node 7 Type  Node 7 Predecessor  Node 7 Successor  Node 7 Name  \\\n",
      "56600           NaN                 NaN               NaN          NaN   \n",
      "56601           NaN                 NaN               NaN          NaN   \n",
      "56602           NaN                 NaN               NaN          NaN   \n",
      "56603           NaN                 NaN               NaN          NaN   \n",
      "314699          NaN                 NaN               NaN          NaN   \n",
      "\n",
      "       Node 7 County Node 7 Lat Node 7 Lon Node 7 Arrival Time  \\\n",
      "56600            NaN        NaN        NaN               oTime   \n",
      "56601            NaN        NaN        NaN               oTime   \n",
      "56602            NaN        NaN        NaN               oTime   \n",
      "56603            NaN        NaN        NaN               oTime   \n",
      "314699           NaN        NaN        NaN               oTime   \n",
      "\n",
      "       Node 7 Departure Time  \n",
      "56600                  dTime  \n",
      "56601                  dTime  \n",
      "56602                  dTime  \n",
      "56603                  dTime  \n",
      "314699                 dTime  \n",
      "\n",
      "[5 rows x 70 columns]\n"
     ]
    }
   ],
   "source": [
    "allyHHID = run1OC[run1OC['HH ID']==4643185]\n",
    "print(allyHHID)"
   ]
  },
  {
   "cell_type": "code",
   "execution_count": 7,
   "metadata": {},
   "outputs": [
    {
     "data": {
      "text/plain": [
       "(5, 70)"
      ]
     },
     "execution_count": 7,
     "metadata": {},
     "output_type": "execute_result"
    }
   ],
   "source": [
    "allyHHID.shape"
   ]
  },
  {
   "cell_type": "code",
   "execution_count": 8,
   "metadata": {
    "collapsed": true
   },
   "outputs": [],
   "source": [
    "#Pixelization Data\n",
    "n = 138.348\n",
    "def Xpixel(latitude,longitude):\n",
    "    if np.isnan(latitude) or np.isnan(longitude):\n",
    "        return 0\n",
    "    else:\n",
    "        xPixel = math.floor(n*(longitude + 97.5)*math.cos(latitude)) \n",
    "        return xPixel\n",
    "  \n",
    "def Ypixel(latitude,longitude):\n",
    "    if np.isnan(latitude) or np.isnan(longitude):\n",
    "        return 0\n",
    "    else:\n",
    "        yPixel = math.floor(n*(latitude - 37.0))\n",
    "        return yPixel"
   ]
  },
  {
   "cell_type": "code",
   "execution_count": 9,
   "metadata": {
    "collapsed": true
   },
   "outputs": [],
   "source": [
    "allyHHID = np.asarray(allyHHID)"
   ]
  },
  {
   "cell_type": "code",
   "execution_count": 10,
   "metadata": {},
   "outputs": [
    {
     "data": {
      "text/plain": [
       "array([[36, 71, 12200, 1017, 4643185, 36011882014, 1, 'H', 'N', 'S',\n",
       "        'Home', 36071, 41.4122136, -74.3321119, 0, '29131.19432', 'S', 'H',\n",
       "        'O', 'SCOTCHTOWN AVENUE SCHOOL', 36071.0, 41.414171, -74.323418,\n",
       "        '29187.69993', '58203.18873', 'O', 'S', 'H', nan, 36071.0,\n",
       "        41.400628999999995, -74.330281, '58323.43963', '64359.37662', 'H',\n",
       "        'O', 'N', 'Home', 36071.0, 41.4122136, -74.3321119, '63617.33476',\n",
       "        nan, nan, nan, nan, nan, nan, nan, nan, 'oTime', 'dTime', nan, nan,\n",
       "        nan, nan, nan, nan, nan, 'oTime', 'dTime', nan, nan, nan, nan, nan,\n",
       "        nan, nan, 'oTime', 'dTime'],\n",
       "       [36, 71, 12200, 1017, 4643185, 36011882015, 1, 'H', 'N', 'S',\n",
       "        'Home', 36071, 41.4122136, -74.3321119, 0, '28638.77485', 'S', 'H',\n",
       "        'O', 'SCOTCHTOWN AVENUE SCHOOL', 36071.0, 41.414171, -74.323418,\n",
       "        '28695.28046', '59242.29968', 'O', 'S', 'H',\n",
       "        'SLEEPY HILLS ORCHARD', 36071.0, 41.365066999999996,\n",
       "        -74.50639100000001, '60452.42241', '66370.46234', 'H', 'O', 'N',\n",
       "        'Home', 36071.0, 41.4122136, -74.3321119, '67359.93905', nan, nan,\n",
       "        nan, nan, nan, nan, nan, nan, 'oTime', 'dTime', nan, nan, nan, nan,\n",
       "        nan, nan, nan, 'oTime', 'dTime', nan, nan, nan, nan, nan, nan, nan,\n",
       "        'oTime', 'dTime'],\n",
       "       [36, 71, 12200, 1017, 4643185, 36011882016, 1, 'H', 'N', 'S',\n",
       "        'Home', 36071, 41.4122136, -74.3321119, 0, '27956.52105', 'S', 'H',\n",
       "        'H', 'SCOTCHTOWN AVENUE SCHOOL', 36071.0, 41.414171, -74.323418,\n",
       "        '28013.02666', '58618.05205', 'H', 'S', 'N', 'Home', 36071.0,\n",
       "        41.4122136, -74.3321119, '58674.55766', nan, nan, nan, nan, nan,\n",
       "        nan, nan, nan, 'oTime', 'dTime', nan, nan, nan, nan, nan, nan, nan,\n",
       "        'oTime', 'dTime', nan, nan, nan, nan, nan, nan, nan, 'oTime',\n",
       "        'dTime', nan, nan, nan, nan, nan, nan, nan, 'oTime', 'dTime'],\n",
       "       [36, 71, 12200, 1017, 4643185, 36011882017, 1, 'H', 'N', 'S',\n",
       "        'Home', 36071, 41.4122136, -74.3321119, 0, '28404.73326', 'S', 'H',\n",
       "        'O', 'SCOTCHTOWN AVENUE SCHOOL', 36071.0, 41.414171, -74.323418,\n",
       "        '28461.23887', '55912.01204', 'O', 'S', 'H',\n",
       "        'CRIST BROTHERS ORCHARD', 36071.0, 41.551198, -74.1637,\n",
       "        '57421.9932', '62946.63594', 'H', 'O', 'O', 'Home', 36071.0,\n",
       "        41.4122136, -74.3321119, '64428.03197', '68657.12911', 'O', 'H',\n",
       "        'H', nan, 36071.0, 41.400628999999995, -74.330281, '68834.21873',\n",
       "        '74447.90663', 'H', 'O', 'N', 'Home', 36071.0, 41.4122136,\n",
       "        -74.3321119, '74701.52728', nan, nan, nan, nan, nan, nan, nan, nan,\n",
       "        'oTime', 'dTime'],\n",
       "       [36, 71, 12200, 1017, 4643185, 36011882013, 6, 'H', 'N', 'O',\n",
       "        'Home', 36071, 41.4122136, -74.3321119, 0, '38376.02157', 'O', 'H',\n",
       "        'O', \"WESSEL'S FARMS INC\", 36071.0, 41.478803000000006, -74.518322,\n",
       "        '39659.68961', '44181.59813', 'O', 'O', 'H', \"WESSEL'S FARMS INC\",\n",
       "        36071.0, 41.478803000000006, -74.518322, '44181.59813',\n",
       "        '49826.24473', 'H', 'O', 'N', 'Home', 36071.0, 41.4122136,\n",
       "        -74.3321119, '51059.29867', nan, nan, nan, nan, nan, nan, nan, nan,\n",
       "        'oTime', 'dTime', nan, nan, nan, nan, nan, nan, nan, 'oTime',\n",
       "        'dTime', nan, nan, nan, nan, nan, nan, nan, 'oTime', 'dTime']], dtype=object)"
      ]
     },
     "execution_count": 10,
     "metadata": {},
     "output_type": "execute_result"
    }
   ],
   "source": [
    "allyHHID"
   ]
  },
  {
   "cell_type": "code",
   "execution_count": 11,
   "metadata": {
    "collapsed": true
   },
   "outputs": [],
   "source": [
    "run1OC_array = np.asarray(run1OC)"
   ]
  },
  {
   "cell_type": "code",
   "execution_count": 12,
   "metadata": {},
   "outputs": [
    {
     "data": {
      "text/plain": [
       "array([[36, 71, 13900, ..., nan, 'oTime', 'dTime'],\n",
       "       [36, 71, 100, ..., nan, 'oTime', 'dTime'],\n",
       "       [36, 71, 100, ..., nan, 'oTime', 'dTime'],\n",
       "       ..., \n",
       "       [36, 71, 15200, ..., nan, 'oTime', 'dTime'],\n",
       "       [36, 71, 15200, ..., nan, 'oTime', 'dTime'],\n",
       "       [36, 71, 15200, ..., nan, 'oTime', 'dTime']], dtype=object)"
      ]
     },
     "execution_count": 12,
     "metadata": {},
     "output_type": "execute_result"
    }
   ],
   "source": [
    "run1OC_array"
   ]
  },
  {
   "cell_type": "code",
   "execution_count": 13,
   "metadata": {},
   "outputs": [
    {
     "data": {
      "text/plain": [
       "array([[36, 71, 12200, 1017, 4643185, 36011882014, 1, 'H', 'N', 'S',\n",
       "        'Home', 36071, 41.4122136, -74.3321119, 0, '29131.19432', 'S', 'H',\n",
       "        'O', 'SCOTCHTOWN AVENUE SCHOOL', 36071.0, 41.414171, -74.323418,\n",
       "        '29187.69993', '58203.18873', 'O', 'S', 'H', nan, 36071.0,\n",
       "        41.400628999999995, -74.330281, '58323.43963', '64359.37662', 'H',\n",
       "        'O', 'N', 'Home', 36071.0, 41.4122136, -74.3321119, '63617.33476',\n",
       "        nan, nan, nan, nan, nan, nan, nan, nan, 'oTime', 'dTime', nan, nan,\n",
       "        nan, nan, nan, nan, nan, 'oTime', 'dTime', nan, nan, nan, nan, nan,\n",
       "        nan, nan, 'oTime', 'dTime'],\n",
       "       [36, 71, 12200, 1017, 4643185, 36011882015, 1, 'H', 'N', 'S',\n",
       "        'Home', 36071, 41.4122136, -74.3321119, 0, '28638.77485', 'S', 'H',\n",
       "        'O', 'SCOTCHTOWN AVENUE SCHOOL', 36071.0, 41.414171, -74.323418,\n",
       "        '28695.28046', '59242.29968', 'O', 'S', 'H',\n",
       "        'SLEEPY HILLS ORCHARD', 36071.0, 41.365066999999996,\n",
       "        -74.50639100000001, '60452.42241', '66370.46234', 'H', 'O', 'N',\n",
       "        'Home', 36071.0, 41.4122136, -74.3321119, '67359.93905', nan, nan,\n",
       "        nan, nan, nan, nan, nan, nan, 'oTime', 'dTime', nan, nan, nan, nan,\n",
       "        nan, nan, nan, 'oTime', 'dTime', nan, nan, nan, nan, nan, nan, nan,\n",
       "        'oTime', 'dTime'],\n",
       "       [36, 71, 12200, 1017, 4643185, 36011882016, 1, 'H', 'N', 'S',\n",
       "        'Home', 36071, 41.4122136, -74.3321119, 0, '27956.52105', 'S', 'H',\n",
       "        'H', 'SCOTCHTOWN AVENUE SCHOOL', 36071.0, 41.414171, -74.323418,\n",
       "        '28013.02666', '58618.05205', 'H', 'S', 'N', 'Home', 36071.0,\n",
       "        41.4122136, -74.3321119, '58674.55766', nan, nan, nan, nan, nan,\n",
       "        nan, nan, nan, 'oTime', 'dTime', nan, nan, nan, nan, nan, nan, nan,\n",
       "        'oTime', 'dTime', nan, nan, nan, nan, nan, nan, nan, 'oTime',\n",
       "        'dTime', nan, nan, nan, nan, nan, nan, nan, 'oTime', 'dTime'],\n",
       "       [36, 71, 12200, 1017, 4643185, 36011882017, 1, 'H', 'N', 'S',\n",
       "        'Home', 36071, 41.4122136, -74.3321119, 0, '28404.73326', 'S', 'H',\n",
       "        'O', 'SCOTCHTOWN AVENUE SCHOOL', 36071.0, 41.414171, -74.323418,\n",
       "        '28461.23887', '55912.01204', 'O', 'S', 'H',\n",
       "        'CRIST BROTHERS ORCHARD', 36071.0, 41.551198, -74.1637,\n",
       "        '57421.9932', '62946.63594', 'H', 'O', 'O', 'Home', 36071.0,\n",
       "        41.4122136, -74.3321119, '64428.03197', '68657.12911', 'O', 'H',\n",
       "        'H', nan, 36071.0, 41.400628999999995, -74.330281, '68834.21873',\n",
       "        '74447.90663', 'H', 'O', 'N', 'Home', 36071.0, 41.4122136,\n",
       "        -74.3321119, '74701.52728', nan, nan, nan, nan, nan, nan, nan, nan,\n",
       "        'oTime', 'dTime'],\n",
       "       [36, 71, 12200, 1017, 4643185, 36011882013, 6, 'H', 'N', 'O',\n",
       "        'Home', 36071, 41.4122136, -74.3321119, 0, '38376.02157', 'O', 'H',\n",
       "        'O', \"WESSEL'S FARMS INC\", 36071.0, 41.478803000000006, -74.518322,\n",
       "        '39659.68961', '44181.59813', 'O', 'O', 'H', \"WESSEL'S FARMS INC\",\n",
       "        36071.0, 41.478803000000006, -74.518322, '44181.59813',\n",
       "        '49826.24473', 'H', 'O', 'N', 'Home', 36071.0, 41.4122136,\n",
       "        -74.3321119, '51059.29867', nan, nan, nan, nan, nan, nan, nan, nan,\n",
       "        'oTime', 'dTime', nan, nan, nan, nan, nan, nan, nan, 'oTime',\n",
       "        'dTime', nan, nan, nan, nan, nan, nan, nan, 'oTime', 'dTime']], dtype=object)"
      ]
     },
     "execution_count": 13,
     "metadata": {},
     "output_type": "execute_result"
    }
   ],
   "source": [
    "allyHHID"
   ]
  },
  {
   "cell_type": "code",
   "execution_count": 33,
   "metadata": {
    "collapsed": true
   },
   "outputs": [],
   "source": [
    "def pixelization(n,a):\n",
    "    xpixels =  np.zeros((n,7))\n",
    "    ypixels =  np.zeros((n,7))\n",
    "    oarrivals = np.zeros((n,7))\n",
    "    odepartures = np.zeros((n,7))\n",
    "    latlong = np.zeros((n*7,3))\n",
    "\n",
    "    name = [[] for _ in range(n)]\n",
    "    for i in range(n):\n",
    "        for j in range(7):\n",
    "            xpixels[i][j]= Xpixel(a[i][12+9*j],a[i][13+9*j])\n",
    "            ypixels[i][j]= Ypixel(a[i][12+9*j],a[i][13+9*j])\n",
    "            latlong[i*7 + j][0] = a[i][12+9*j]\n",
    "            latlong[i*7 + j][1] = a[i][13+9*j]\n",
    "            latlong[i*7 + j ][2] = a[i][13+9*j]*a[i][12+9*j]\n",
    "            if a[i][14+9*j] != 'oTime':\n",
    "                oarrivals[i][j]= (a[i][14+9*j])\n",
    "            else:\n",
    "                oarrivals[i][j]= 0\n",
    "            if a[i][15+9*j] != 'dTime':\n",
    "                odepartures[i][j]= (a[i][15+9*j])\n",
    "            else:\n",
    "                odepartures[i][j]= 0\n",
    "            name[i] = np.append(name[i], a[i][10+9*j])\n",
    "    return xpixels, ypixels, name, oarrivals, odepartures, latlong\n"
   ]
  },
  {
   "cell_type": "code",
   "execution_count": 25,
   "metadata": {},
   "outputs": [
    {
     "data": {
      "text/plain": [
       "(array([[-2696., -2694., -2716., -2696.,     0.,     0.,     0.],\n",
       "        [-2696., -2694., -2754., -2696.,     0.,     0.,     0.],\n",
       "        [-2696., -2694., -2696.,     0.,     0.,     0.,     0.],\n",
       "        [-2696., -2694., -2448., -2696., -2716., -2696.,     0.],\n",
       "        [-2696., -2554., -2554., -2696.,     0.,     0.,     0.]]),\n",
       " array([[ 610.,  610.,  608.,  610.,    0.,    0.,    0.],\n",
       "        [ 610.,  610.,  603.,  610.,    0.,    0.,    0.],\n",
       "        [ 610.,  610.,  610.,    0.,    0.,    0.,    0.],\n",
       "        [ 610.,  610.,  629.,  610.,  608.,  610.,    0.],\n",
       "        [ 610.,  619.,  619.,  610.,    0.,    0.,    0.]]),\n",
       " [array(['Home', 'SCOTCHTOWN AVENUE SCHOOL', 'nan', 'Home', 'nan', 'nan',\n",
       "         'nan'],\n",
       "        dtype='<U32'),\n",
       "  array(['Home', 'SCOTCHTOWN AVENUE SCHOOL', 'SLEEPY HILLS ORCHARD', 'Home',\n",
       "         'nan', 'nan', 'nan'],\n",
       "        dtype='<U32'),\n",
       "  array(['Home', 'SCOTCHTOWN AVENUE SCHOOL', 'Home', 'nan', 'nan', 'nan',\n",
       "         'nan'],\n",
       "        dtype='<U32'),\n",
       "  array(['Home', 'SCOTCHTOWN AVENUE SCHOOL', 'CRIST BROTHERS ORCHARD',\n",
       "         'Home', 'nan', 'Home', 'nan'],\n",
       "        dtype='<U32'),\n",
       "  array(['Home', \"WESSEL'S FARMS INC\", \"WESSEL'S FARMS INC\", 'Home', 'nan',\n",
       "         'nan', 'nan'],\n",
       "        dtype='<U32')],\n",
       " array([[     0.     ,  29187.69993,  58323.43963,  63617.33476,\n",
       "              0.     ,      0.     ,      0.     ],\n",
       "        [     0.     ,  28695.28046,  60452.42241,  67359.93905,\n",
       "              0.     ,      0.     ,      0.     ],\n",
       "        [     0.     ,  28013.02666,  58674.55766,      0.     ,\n",
       "              0.     ,      0.     ,      0.     ],\n",
       "        [     0.     ,  28461.23887,  57421.9932 ,  64428.03197,\n",
       "          68834.21873,  74701.52728,      0.     ],\n",
       "        [     0.     ,  39659.68961,  44181.59813,  51059.29867,\n",
       "              0.     ,      0.     ,      0.     ]]),\n",
       " array([[ 29131.19432,  58203.18873,  64359.37662,          nan,\n",
       "              0.     ,      0.     ,      0.     ],\n",
       "        [ 28638.77485,  59242.29968,  66370.46234,          nan,\n",
       "              0.     ,      0.     ,      0.     ],\n",
       "        [ 27956.52105,  58618.05205,          nan,      0.     ,\n",
       "              0.     ,      0.     ,      0.     ],\n",
       "        [ 28404.73326,  55912.01204,  62946.63594,  68657.12911,\n",
       "          74447.90663,          nan,      0.     ],\n",
       "        [ 38376.02157,  44181.59813,  49826.24473,          nan,\n",
       "              0.     ,      0.     ,      0.     ]]))"
      ]
     },
     "execution_count": 25,
     "metadata": {},
     "output_type": "execute_result"
    }
   ],
   "source": [
    "pixelization(5, allyHHID)"
   ]
  },
  {
   "cell_type": "code",
   "execution_count": 16,
   "metadata": {
    "collapsed": true
   },
   "outputs": [],
   "source": [
    "def cartDist(n, xpixels, ypixels):\n",
    "    distances = np.zeros((n,7))\n",
    "    for i in range(n):\n",
    "        for j in range(7):\n",
    "            if xpixels[i][j+1] == 0:\n",
    "                break\n",
    "            else:\n",
    "                distances[i][j]=math.sqrt(((xpixels[i][j+1]-xpixels[i][j])**2) + ((ypixels[i][j+1]-ypixels[i][j])**2))\n",
    "            \n",
    "    return distances"
   ]
  },
  {
   "cell_type": "code",
   "execution_count": 34,
   "metadata": {
    "collapsed": true
   },
   "outputs": [],
   "source": [
    "xpixels, ypixels, names, oarrivals, odepartures, latlong = pixelization(5, allyHHID)"
   ]
  },
  {
   "cell_type": "code",
   "execution_count": 18,
   "metadata": {
    "collapsed": true
   },
   "outputs": [],
   "source": [
    "dist = cartDist(5, xpixels, ypixels)"
   ]
  },
  {
   "cell_type": "code",
   "execution_count": 19,
   "metadata": {},
   "outputs": [
    {
     "data": {
      "text/plain": [
       "array([  44.19047328,  120.82783992,    4.        ,  537.65890903,\n",
       "        284.56985083])"
      ]
     },
     "execution_count": 19,
     "metadata": {},
     "output_type": "execute_result"
    }
   ],
   "source": [
    "np.sum(dist, axis=1)"
   ]
  },
  {
   "cell_type": "code",
   "execution_count": 20,
   "metadata": {},
   "outputs": [
    {
     "data": {
      "text/plain": [
       "15"
      ]
     },
     "execution_count": 20,
     "metadata": {},
     "output_type": "execute_result"
    }
   ],
   "source": [
    "len(np.nonzero(dist)[0])"
   ]
  },
  {
   "cell_type": "code",
   "execution_count": 21,
   "metadata": {},
   "outputs": [
    {
     "name": "stdout",
     "output_type": "stream",
     "text": [
      "[[   2.           22.09072203   20.09975124    0.            0.            0.\n",
      "     0.        ]\n",
      " [   2.           60.40695324   58.42088668    0.            0.            0.\n",
      "     0.        ]\n",
      " [   2.            2.            0.            0.            0.            0.\n",
      "     0.        ]\n",
      " [   2.          246.73264883  248.72675771   20.09975124   20.09975124\n",
      "     0.            0.        ]\n",
      " [ 142.28492541    0.          142.28492541    0.            0.            0.\n",
      "     0.        ]]\n"
     ]
    }
   ],
   "source": [
    "print(dist)"
   ]
  },
  {
   "cell_type": "code",
   "execution_count": 22,
   "metadata": {
    "collapsed": true
   },
   "outputs": [],
   "source": [
    "def tripInfo(n, distances, odepartures):\n",
    "    count = 0\n",
    "    tripsPP= np.zeros(n)\n",
    "    tripsPH = np.zeros(24)\n",
    "    for i in range(n):\n",
    "        for j in range(7):\n",
    "            if distances[i][j] == 0:\n",
    "                count = 0\n",
    "            else:\n",
    "                tripsPP[i] += 1\n",
    "            if np.isnan(odepartures[i][j]) or odepartures[i][j] == 0:\n",
    "                count = 0\n",
    "            else:\n",
    "                tripsPH[math.floor(odepartures[i][j]/3600)] += 1;\n",
    "                \n",
    "    return tripsPP, tripsPH\n",
    "    \n",
    "            "
   ]
  },
  {
   "cell_type": "code",
   "execution_count": 23,
   "metadata": {},
   "outputs": [
    {
     "data": {
      "text/plain": [
       "(array([ 3.,  3.,  2.,  5.,  2.]),\n",
       " array([ 0.,  0.,  0.,  0.,  0.,  0.,  0.,  3.,  1.,  0.,  1.,  0.,  1.,\n",
       "         1.,  0.,  1.,  3.,  2.,  1.,  1.,  1.,  0.,  0.,  0.]))"
      ]
     },
     "execution_count": 23,
     "metadata": {},
     "output_type": "execute_result"
    }
   ],
   "source": [
    "tripInfo(5, dist, odepartures)"
   ]
  },
  {
   "cell_type": "code",
   "execution_count": 36,
   "metadata": {},
   "outputs": [
    {
     "data": {
      "text/plain": [
       "array([[   41.4122136 ,   -74.3321119 , -3078.25729534],\n",
       "       [   41.414171  ,   -74.323418  , -3078.04274236],\n",
       "       [   41.400629  ,   -74.330281  , -3077.32038715],\n",
       "       [   41.4122136 ,   -74.3321119 , -3078.25729534],\n",
       "       [           nan,            nan,            nan],\n",
       "       [           nan,            nan,            nan],\n",
       "       [           nan,            nan,            nan],\n",
       "       [   41.4122136 ,   -74.3321119 , -3078.25729534],\n",
       "       [   41.414171  ,   -74.323418  , -3078.04274236],\n",
       "       [   41.365067  ,   -74.506391  , -3081.96185564],\n",
       "       [   41.4122136 ,   -74.3321119 , -3078.25729534],\n",
       "       [           nan,            nan,            nan],\n",
       "       [           nan,            nan,            nan],\n",
       "       [           nan,            nan,            nan],\n",
       "       [   41.4122136 ,   -74.3321119 , -3078.25729534],\n",
       "       [   41.414171  ,   -74.323418  , -3078.04274236],\n",
       "       [   41.4122136 ,   -74.3321119 , -3078.25729534],\n",
       "       [           nan,            nan,            nan],\n",
       "       [           nan,            nan,            nan],\n",
       "       [           nan,            nan,            nan],\n",
       "       [           nan,            nan,            nan],\n",
       "       [   41.4122136 ,   -74.3321119 , -3078.25729534],\n",
       "       [   41.414171  ,   -74.323418  , -3078.04274236],\n",
       "       [   41.551198  ,   -74.1637    , -3081.59058311],\n",
       "       [   41.4122136 ,   -74.3321119 , -3078.25729534],\n",
       "       [   41.400629  ,   -74.330281  , -3077.32038715],\n",
       "       [   41.4122136 ,   -74.3321119 , -3078.25729534],\n",
       "       [           nan,            nan,            nan],\n",
       "       [   41.4122136 ,   -74.3321119 , -3078.25729534],\n",
       "       [   41.478803  ,   -74.518322  , -3090.93079813],\n",
       "       [   41.478803  ,   -74.518322  , -3090.93079813],\n",
       "       [   41.4122136 ,   -74.3321119 , -3078.25729534],\n",
       "       [           nan,            nan,            nan],\n",
       "       [           nan,            nan,            nan],\n",
       "       [           nan,            nan,            nan]])"
      ]
     },
     "execution_count": 36,
     "metadata": {},
     "output_type": "execute_result"
    }
   ],
   "source": [
    "pixels = np.zeros((10000,3))\n",
    "latlong"
   ]
  },
  {
   "cell_type": "code",
   "execution_count": 37,
   "metadata": {},
   "outputs": [],
   "source": [
    "u_pixels = np.unique(latlong, axis = 0)"
   ]
  },
  {
   "cell_type": "code",
   "execution_count": 45,
   "metadata": {},
   "outputs": [
    {
     "data": {
      "text/plain": [
       "array([[ 41.365067 , -74.506391 ,   1.       ],\n",
       "       [ 41.400629 , -74.330281 ,   2.       ],\n",
       "       [ 41.4122136, -74.3321119,  11.       ],\n",
       "       ..., \n",
       "       [  0.       ,   0.       ,   0.       ],\n",
       "       [  0.       ,   0.       ,   0.       ],\n",
       "       [  0.       ,   0.       ,   0.       ]])"
      ]
     },
     "execution_count": 45,
     "metadata": {},
     "output_type": "execute_result"
    }
   ],
   "source": [
    "i = 0\n",
    "while True:\n",
    "    pixels[i][0] = u_pixels[i][0]\n",
    "    pixels[i][1] = u_pixels[i][1]\n",
    "    pixels[i][2] = np.count_nonzero(latlong == u_pixels[i][2])\n",
    "    i = i + 1\n",
    "    if np.isnan(u_pixels[i][0]):\n",
    "        break\n",
    "pixels"
   ]
  },
  {
   "cell_type": "code",
   "execution_count": 40,
   "metadata": {},
   "outputs": [
    {
     "ename": "TypeError",
     "evalue": "ufunc 'isfinite' not supported for the input types, and the inputs could not be safely coerced to any supported types according to the casting rule ''safe''",
     "output_type": "error",
     "traceback": [
      "\u001b[0;31m---------------------------------------------------------------------------\u001b[0m",
      "\u001b[0;31mTypeError\u001b[0m                                 Traceback (most recent call last)",
      "\u001b[0;32m<ipython-input-40-355719a5f3ed>\u001b[0m in \u001b[0;36m<module>\u001b[0;34m()\u001b[0m\n\u001b[0;32m----> 1\u001b[0;31m \u001b[0mnp\u001b[0m\u001b[0;34m.\u001b[0m\u001b[0misfinite\u001b[0m\u001b[0;34m(\u001b[0m\u001b[0;34m'nan'\u001b[0m\u001b[0;34m)\u001b[0m\u001b[0;34m\u001b[0m\u001b[0m\n\u001b[0m",
      "\u001b[0;31mTypeError\u001b[0m: ufunc 'isfinite' not supported for the input types, and the inputs could not be safely coerced to any supported types according to the casting rule ''safe''"
     ]
    }
   ],
   "source": []
  },
  {
   "cell_type": "code",
   "execution_count": 46,
   "metadata": {
    "collapsed": true
   },
   "outputs": [],
   "source": [
    "import csv\n",
    "\n",
    "with open('pixels.csv', 'w') as csvFile:\n",
    "    writer = csv.writer(csvFile)\n",
    "    writer.writerows(pixels)\n",
    "\n",
    "csvFile.close()\n"
   ]
  },
  {
   "cell_type": "code",
   "execution_count": null,
   "metadata": {
    "collapsed": true
   },
   "outputs": [],
   "source": []
  }
 ],
 "metadata": {
  "kernelspec": {
   "display_name": "Python 3",
   "language": "python",
   "name": "python3"
  },
  "language_info": {
   "codemirror_mode": {
    "name": "ipython",
    "version": 3
   },
   "file_extension": ".py",
   "mimetype": "text/x-python",
   "name": "python",
   "nbconvert_exporter": "python",
   "pygments_lexer": "ipython3",
   "version": "3.6.3"
  }
 },
 "nbformat": 4,
 "nbformat_minor": 2
}
